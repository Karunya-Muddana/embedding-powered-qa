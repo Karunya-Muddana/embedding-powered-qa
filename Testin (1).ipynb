{
  "nbformat": 4,
  "nbformat_minor": 0,
  "metadata": {
    "colab": {
      "provenance": []
    },
    "kernelspec": {
      "name": "python3",
      "display_name": "Python 3"
    },
    "language_info": {
      "name": "python"
    },
    "widgets": {
      "application/vnd.jupyter.widget-state+json": {
        "1566254c22364fce8d154b6006d7c674": {
          "model_module": "@jupyter-widgets/controls",
          "model_name": "HBoxModel",
          "model_module_version": "1.5.0",
          "state": {
            "_dom_classes": [],
            "_model_module": "@jupyter-widgets/controls",
            "_model_module_version": "1.5.0",
            "_model_name": "HBoxModel",
            "_view_count": null,
            "_view_module": "@jupyter-widgets/controls",
            "_view_module_version": "1.5.0",
            "_view_name": "HBoxView",
            "box_style": "",
            "children": [
              "IPY_MODEL_6f57c4ccb273426492141cd8901c1cae",
              "IPY_MODEL_1832300936ec467ab499da852b1f7504",
              "IPY_MODEL_fbeeeee5ce3f4c0fba7f08f8aad70b92"
            ],
            "layout": "IPY_MODEL_204f132c26bc46b5888a193971b2aad6"
          }
        },
        "6f57c4ccb273426492141cd8901c1cae": {
          "model_module": "@jupyter-widgets/controls",
          "model_name": "HTMLModel",
          "model_module_version": "1.5.0",
          "state": {
            "_dom_classes": [],
            "_model_module": "@jupyter-widgets/controls",
            "_model_module_version": "1.5.0",
            "_model_name": "HTMLModel",
            "_view_count": null,
            "_view_module": "@jupyter-widgets/controls",
            "_view_module_version": "1.5.0",
            "_view_name": "HTMLView",
            "description": "",
            "description_tooltip": null,
            "layout": "IPY_MODEL_07b31c60b75049eb89d7e36d7a2a8c79",
            "placeholder": "​",
            "style": "IPY_MODEL_11c1fc8689b44a3cbea6aff5dbd12e7a",
            "value": "Batches: 100%"
          }
        },
        "1832300936ec467ab499da852b1f7504": {
          "model_module": "@jupyter-widgets/controls",
          "model_name": "FloatProgressModel",
          "model_module_version": "1.5.0",
          "state": {
            "_dom_classes": [],
            "_model_module": "@jupyter-widgets/controls",
            "_model_module_version": "1.5.0",
            "_model_name": "FloatProgressModel",
            "_view_count": null,
            "_view_module": "@jupyter-widgets/controls",
            "_view_module_version": "1.5.0",
            "_view_name": "ProgressView",
            "bar_style": "success",
            "description": "",
            "description_tooltip": null,
            "layout": "IPY_MODEL_c8dc6d230fce4e20b25d04c587a7eaa3",
            "max": 1,
            "min": 0,
            "orientation": "horizontal",
            "style": "IPY_MODEL_d2e4179a2f8d42efb93f7c664dea5837",
            "value": 1
          }
        },
        "fbeeeee5ce3f4c0fba7f08f8aad70b92": {
          "model_module": "@jupyter-widgets/controls",
          "model_name": "HTMLModel",
          "model_module_version": "1.5.0",
          "state": {
            "_dom_classes": [],
            "_model_module": "@jupyter-widgets/controls",
            "_model_module_version": "1.5.0",
            "_model_name": "HTMLModel",
            "_view_count": null,
            "_view_module": "@jupyter-widgets/controls",
            "_view_module_version": "1.5.0",
            "_view_name": "HTMLView",
            "description": "",
            "description_tooltip": null,
            "layout": "IPY_MODEL_d327883e2fdb480088ca3b8852ac62fd",
            "placeholder": "​",
            "style": "IPY_MODEL_0d1599774e52491f8fdbcd7c01c232b8",
            "value": " 1/1 [00:03&lt;00:00,  3.81s/it]"
          }
        },
        "204f132c26bc46b5888a193971b2aad6": {
          "model_module": "@jupyter-widgets/base",
          "model_name": "LayoutModel",
          "model_module_version": "1.2.0",
          "state": {
            "_model_module": "@jupyter-widgets/base",
            "_model_module_version": "1.2.0",
            "_model_name": "LayoutModel",
            "_view_count": null,
            "_view_module": "@jupyter-widgets/base",
            "_view_module_version": "1.2.0",
            "_view_name": "LayoutView",
            "align_content": null,
            "align_items": null,
            "align_self": null,
            "border": null,
            "bottom": null,
            "display": null,
            "flex": null,
            "flex_flow": null,
            "grid_area": null,
            "grid_auto_columns": null,
            "grid_auto_flow": null,
            "grid_auto_rows": null,
            "grid_column": null,
            "grid_gap": null,
            "grid_row": null,
            "grid_template_areas": null,
            "grid_template_columns": null,
            "grid_template_rows": null,
            "height": null,
            "justify_content": null,
            "justify_items": null,
            "left": null,
            "margin": null,
            "max_height": null,
            "max_width": null,
            "min_height": null,
            "min_width": null,
            "object_fit": null,
            "object_position": null,
            "order": null,
            "overflow": null,
            "overflow_x": null,
            "overflow_y": null,
            "padding": null,
            "right": null,
            "top": null,
            "visibility": null,
            "width": null
          }
        },
        "07b31c60b75049eb89d7e36d7a2a8c79": {
          "model_module": "@jupyter-widgets/base",
          "model_name": "LayoutModel",
          "model_module_version": "1.2.0",
          "state": {
            "_model_module": "@jupyter-widgets/base",
            "_model_module_version": "1.2.0",
            "_model_name": "LayoutModel",
            "_view_count": null,
            "_view_module": "@jupyter-widgets/base",
            "_view_module_version": "1.2.0",
            "_view_name": "LayoutView",
            "align_content": null,
            "align_items": null,
            "align_self": null,
            "border": null,
            "bottom": null,
            "display": null,
            "flex": null,
            "flex_flow": null,
            "grid_area": null,
            "grid_auto_columns": null,
            "grid_auto_flow": null,
            "grid_auto_rows": null,
            "grid_column": null,
            "grid_gap": null,
            "grid_row": null,
            "grid_template_areas": null,
            "grid_template_columns": null,
            "grid_template_rows": null,
            "height": null,
            "justify_content": null,
            "justify_items": null,
            "left": null,
            "margin": null,
            "max_height": null,
            "max_width": null,
            "min_height": null,
            "min_width": null,
            "object_fit": null,
            "object_position": null,
            "order": null,
            "overflow": null,
            "overflow_x": null,
            "overflow_y": null,
            "padding": null,
            "right": null,
            "top": null,
            "visibility": null,
            "width": null
          }
        },
        "11c1fc8689b44a3cbea6aff5dbd12e7a": {
          "model_module": "@jupyter-widgets/controls",
          "model_name": "DescriptionStyleModel",
          "model_module_version": "1.5.0",
          "state": {
            "_model_module": "@jupyter-widgets/controls",
            "_model_module_version": "1.5.0",
            "_model_name": "DescriptionStyleModel",
            "_view_count": null,
            "_view_module": "@jupyter-widgets/base",
            "_view_module_version": "1.2.0",
            "_view_name": "StyleView",
            "description_width": ""
          }
        },
        "c8dc6d230fce4e20b25d04c587a7eaa3": {
          "model_module": "@jupyter-widgets/base",
          "model_name": "LayoutModel",
          "model_module_version": "1.2.0",
          "state": {
            "_model_module": "@jupyter-widgets/base",
            "_model_module_version": "1.2.0",
            "_model_name": "LayoutModel",
            "_view_count": null,
            "_view_module": "@jupyter-widgets/base",
            "_view_module_version": "1.2.0",
            "_view_name": "LayoutView",
            "align_content": null,
            "align_items": null,
            "align_self": null,
            "border": null,
            "bottom": null,
            "display": null,
            "flex": null,
            "flex_flow": null,
            "grid_area": null,
            "grid_auto_columns": null,
            "grid_auto_flow": null,
            "grid_auto_rows": null,
            "grid_column": null,
            "grid_gap": null,
            "grid_row": null,
            "grid_template_areas": null,
            "grid_template_columns": null,
            "grid_template_rows": null,
            "height": null,
            "justify_content": null,
            "justify_items": null,
            "left": null,
            "margin": null,
            "max_height": null,
            "max_width": null,
            "min_height": null,
            "min_width": null,
            "object_fit": null,
            "object_position": null,
            "order": null,
            "overflow": null,
            "overflow_x": null,
            "overflow_y": null,
            "padding": null,
            "right": null,
            "top": null,
            "visibility": null,
            "width": null
          }
        },
        "d2e4179a2f8d42efb93f7c664dea5837": {
          "model_module": "@jupyter-widgets/controls",
          "model_name": "ProgressStyleModel",
          "model_module_version": "1.5.0",
          "state": {
            "_model_module": "@jupyter-widgets/controls",
            "_model_module_version": "1.5.0",
            "_model_name": "ProgressStyleModel",
            "_view_count": null,
            "_view_module": "@jupyter-widgets/base",
            "_view_module_version": "1.2.0",
            "_view_name": "StyleView",
            "bar_color": null,
            "description_width": ""
          }
        },
        "d327883e2fdb480088ca3b8852ac62fd": {
          "model_module": "@jupyter-widgets/base",
          "model_name": "LayoutModel",
          "model_module_version": "1.2.0",
          "state": {
            "_model_module": "@jupyter-widgets/base",
            "_model_module_version": "1.2.0",
            "_model_name": "LayoutModel",
            "_view_count": null,
            "_view_module": "@jupyter-widgets/base",
            "_view_module_version": "1.2.0",
            "_view_name": "LayoutView",
            "align_content": null,
            "align_items": null,
            "align_self": null,
            "border": null,
            "bottom": null,
            "display": null,
            "flex": null,
            "flex_flow": null,
            "grid_area": null,
            "grid_auto_columns": null,
            "grid_auto_flow": null,
            "grid_auto_rows": null,
            "grid_column": null,
            "grid_gap": null,
            "grid_row": null,
            "grid_template_areas": null,
            "grid_template_columns": null,
            "grid_template_rows": null,
            "height": null,
            "justify_content": null,
            "justify_items": null,
            "left": null,
            "margin": null,
            "max_height": null,
            "max_width": null,
            "min_height": null,
            "min_width": null,
            "object_fit": null,
            "object_position": null,
            "order": null,
            "overflow": null,
            "overflow_x": null,
            "overflow_y": null,
            "padding": null,
            "right": null,
            "top": null,
            "visibility": null,
            "width": null
          }
        },
        "0d1599774e52491f8fdbcd7c01c232b8": {
          "model_module": "@jupyter-widgets/controls",
          "model_name": "DescriptionStyleModel",
          "model_module_version": "1.5.0",
          "state": {
            "_model_module": "@jupyter-widgets/controls",
            "_model_module_version": "1.5.0",
            "_model_name": "DescriptionStyleModel",
            "_view_count": null,
            "_view_module": "@jupyter-widgets/base",
            "_view_module_version": "1.2.0",
            "_view_name": "StyleView",
            "description_width": ""
          }
        }
      }
    }
  },
  "cells": [
    {
      "cell_type": "code",
      "source": [
        "import os\n",
        "os.environ['HF_TOKEN'] = 'ENTER YOUR TOKEN HERE'"
      ],
      "metadata": {
        "id": "yH2omrYCzv6i"
      },
      "execution_count": 75,
      "outputs": []
    },
    {
      "cell_type": "code",
      "source": [
        "import PyPDF2\n",
        "import math\n",
        "import os\n",
        "import requests\n",
        "\n",
        "pdf_path = \"/content/test.pdf\"\n",
        "full = \"\"\n",
        "\n",
        "with open(pdf_path, \"rb\") as f:\n",
        "    reader = PyPDF2.PdfReader(f)\n",
        "    for page in reader.pages:\n",
        "        text = page.extract_text() or \"\"\n",
        "        full += text + \" \"\n",
        "\n",
        "words = full.split()\n",
        "x = math.ceil(len(words) / 50)\n",
        "setofwords = [\" \".join(words[i * 50:(i + 1) * 50]) for i in range(x)]\n",
        "\n",
        "print(len(setofwords))\n",
        "\n"
      ],
      "metadata": {
        "colab": {
          "base_uri": "https://localhost:8080/",
          "height": 0
        },
        "id": "Rm80wsCL13-m",
        "outputId": "48e4355b-a808-4cd8-f14f-aa379a78769f"
      },
      "execution_count": 76,
      "outputs": [
        {
          "output_type": "stream",
          "name": "stdout",
          "text": [
            "15\n"
          ]
        }
      ]
    },
    {
      "cell_type": "code",
      "source": [
        "question = input(\"Enter your question: \")"
      ],
      "metadata": {
        "colab": {
          "base_uri": "https://localhost:8080/",
          "height": 0
        },
        "id": "IlIgv6OkB4bB",
        "outputId": "bdf02ad0-e7d3-44b2-ca49-62a8ef57c197"
      },
      "execution_count": 77,
      "outputs": [
        {
          "name": "stdout",
          "output_type": "stream",
          "text": [
            "Enter your question: what is AI ?\n"
          ]
        }
      ]
    },
    {
      "cell_type": "code",
      "source": [
        "import torch\n",
        "from sentence_transformers import SentenceTransformer\n",
        "\n",
        "# Detect device\n",
        "device = \"cuda\" if torch.cuda.is_available() else \"cpu\"\n",
        "\n",
        "# Load the model\n",
        "model_id = \"google/embeddinggemma-300M\"\n",
        "model = SentenceTransformer(model_id)\n",
        "\n",
        "# Encode the sentences on the chosen device\n",
        "pdfembeddings = model.encode(\n",
        "    setofwords,\n",
        "    device=device,      # Move computation to GPU if available\n",
        "    batch_size=16,      # Adjust depending on memory\n",
        "    show_progress_bar=True\n",
        ")\n",
        "\n",
        "questionembedding = model.encode(question, device=device)\n",
        "\n",
        "import numpy as np\n",
        "from sklearn.metrics.pairwise import cosine_similarity\n",
        "\n",
        "# pdfembeddings: (num_sentences, embedding_dim)\n",
        "# questionembedding: (embedding_dim,) → reshape to (1, embedding_dim)\n",
        "question_vec = questionembedding.reshape(1, -1)\n",
        "\n",
        "# Compute cosine similarity between question and all PDF embeddings\n",
        "similarities = cosine_similarity(question_vec, pdfembeddings)  # shape: (1, num_sentences)\n",
        "\n",
        "# Flatten the result\n",
        "similarities = similarities.flatten()\n",
        "\n",
        "# Find the index of the best matching sentence\n",
        "best_idx = np.argmax(similarities)\n",
        "best_score = similarities[best_idx]\n",
        "best_context = setofwords[best_idx]\n",
        "\n",
        "context = \"You are a teacher and your job is to help your student easily answer the question he asked using the context provided -> context = \"\n",
        "context = context + best_context\n",
        "context = context + \" -> question = \"\n",
        "context = context + question\n",
        "print(context)\n"
      ],
      "metadata": {
        "colab": {
          "base_uri": "https://localhost:8080/",
          "height": 86,
          "referenced_widgets": [
            "1566254c22364fce8d154b6006d7c674",
            "6f57c4ccb273426492141cd8901c1cae",
            "1832300936ec467ab499da852b1f7504",
            "fbeeeee5ce3f4c0fba7f08f8aad70b92",
            "204f132c26bc46b5888a193971b2aad6",
            "07b31c60b75049eb89d7e36d7a2a8c79",
            "11c1fc8689b44a3cbea6aff5dbd12e7a",
            "c8dc6d230fce4e20b25d04c587a7eaa3",
            "d2e4179a2f8d42efb93f7c664dea5837",
            "d327883e2fdb480088ca3b8852ac62fd",
            "0d1599774e52491f8fdbcd7c01c232b8"
          ]
        },
        "id": "168dNoRo_jjw",
        "outputId": "71be700a-b198-4268-9953-198457c09527"
      },
      "execution_count": 80,
      "outputs": [
        {
          "output_type": "display_data",
          "data": {
            "text/plain": [
              "Batches:   0%|          | 0/1 [00:00<?, ?it/s]"
            ],
            "application/vnd.jupyter.widget-view+json": {
              "version_major": 2,
              "version_minor": 0,
              "model_id": "1566254c22364fce8d154b6006d7c674"
            }
          },
          "metadata": {}
        },
        {
          "output_type": "stream",
          "name": "stdout",
          "text": [
            "You are a teacher and your job is to help your student easily answer the question he asked using the context provided -> context = of the key ways in which AI is transforming education is through personalized learning . Traditional classrooms often follow a one -size-fits-all approach, where every student is expected to learn at the same pace and in the same manner. This method leaves behind students who learn more slowly, while failing -> question = what is AI ?\n"
          ]
        }
      ]
    },
    {
      "cell_type": "code",
      "execution_count": 81,
      "metadata": {
        "colab": {
          "base_uri": "https://localhost:8080/",
          "height": 0
        },
        "id": "xlmby2uuw50s",
        "outputId": "826b4e22-9caf-4f90-a536-e7e997ab9f63"
      },
      "outputs": [
        {
          "output_type": "stream",
          "name": "stdout",
          "text": [
            "{'content': '**Answer:**\\n\\nArtificial Intelligence (AI) is a branch of computer science that creates machines and software able to **think, learn, and make decisions** like a human does. Instead of just following fixed instructions, AI systems can analyze data, recognize patterns, and improve their performance over time.\\n\\n**Why this matters for education (from the context you gave):**  \\nAI lets computers understand each student’s unique strengths, weaknesses, and learning speed. By doing so, it can provide **personalized learning experiences**—for example, giving extra practice to a student who needs it, or offering more challenging material to someone who’s ready for it. This is very different from the traditional “one‑size‑fits‑all” classroom, where every student is expected to learn in the same way and at the same pace.  \\n\\nSo, in short, AI is technology that can mimic human intelligence, and in education it helps create customized learning paths for every learner.', 'reasoning': 'The user wants: \"You are a teacher and your job is to help your student easily answer the question he asked using the context provided\". Context is about AI transforming education through personalized learning. The question: \"what is AI ?\" So we need to answer: definition of AI, using the context, perhaps linking to personalized learning. Provide a simple explanation. Should be easy for student. Use the context maybe to illustrate AI\\'s role. Provide answer.', 'role': 'assistant'}\n"
          ]
        }
      ],
      "source": [
        "import os\n",
        "import requests\n",
        "\n",
        "API_URL = \"https://router.huggingface.co/v1/chat/completions\"\n",
        "headers = {\n",
        "    \"Authorization\": f\"Bearer {os.environ['HF_TOKEN']}\",\n",
        "}\n",
        "\n",
        "def query(payload):\n",
        "    response = requests.post(API_URL, headers=headers, json=payload)\n",
        "    return response.json()\n",
        "\n",
        "response = query({\n",
        "    \"messages\": [\n",
        "        {\n",
        "            \"role\": \"user\",\n",
        "            \"content\": context\n",
        "        }\n",
        "    ],\n",
        "    \"model\": \"openai/gpt-oss-120b:cerebras\"\n",
        "})\n",
        "\n",
        "print(response[\"choices\"][0][\"message\"])"
      ]
    }
  ]
}